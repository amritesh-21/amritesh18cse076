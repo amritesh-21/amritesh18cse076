{
  "nbformat": 4,
  "nbformat_minor": 0,
  "metadata": {
    "colab": {
      "name": "Assignment-1&2.ipynb",
      "provenance": [],
      "collapsed_sections": [],
      "authorship_tag": "ABX9TyOa51oo2dr24/iLnh4/Xzea",
      "include_colab_link": true
    },
    "kernelspec": {
      "name": "python3",
      "display_name": "Python 3"
    }
  },
  "cells": [
    {
      "cell_type": "markdown",
      "metadata": {
        "id": "view-in-github",
        "colab_type": "text"
      },
      "source": [
        "<a href=\"https://colab.research.google.com/github/amritesh-21/amritesh18cse076/blob/main/Assignment_1%262.ipynb\" target=\"_parent\"><img src=\"https://colab.research.google.com/assets/colab-badge.svg\" alt=\"Open In Colab\"/></a>"
      ]
    },
    {
      "cell_type": "markdown",
      "metadata": {
        "id": "kMFwzSlGz-Ie"
      },
      "source": [
        "#Assignment-1\n",
        "\n",
        "---\n",
        "\n",
        "\n",
        "\n",
        "\n",
        "\n"
      ]
    },
    {
      "cell_type": "markdown",
      "metadata": {
        "id": "n_MwPohEe_-t"
      },
      "source": [
        "#1"
      ]
    },
    {
      "cell_type": "code",
      "metadata": {
        "id": "pfrlVEoN0K2q",
        "colab": {
          "base_uri": "https://localhost:8080/"
        },
        "outputId": "3d55ad2a-32c3-408f-abbb-1bc508ffeada"
      },
      "source": [
        "num_list = [21, 11, 19, 3,11,5]\n",
        "# FInd sum of the numbers\n",
        "num_sum = sum(num_list)\n",
        "#divide the sum with length of the list\n",
        "mean = num_sum / len(num_list)\n",
        "print(num_list)\n",
        "print(\"Mean of the above list of numbers is: \",mean)\n"
      ],
      "execution_count": null,
      "outputs": [
        {
          "output_type": "stream",
          "text": [
            "[21, 11, 19, 3, 11, 5]\n",
            "Mean of the above list of numbers is:  11.666666666666666\n"
          ],
          "name": "stdout"
        }
      ]
    },
    {
      "cell_type": "code",
      "metadata": {
        "id": "sOf3qRLF1Pyv",
        "colab": {
          "base_uri": "https://localhost:8080/"
        },
        "outputId": "b3ed8371-820d-4112-9ced-28ce6a7992b6"
      },
      "source": [
        "num_list = [21, 11, 19, 3,11,5]\n",
        "# FInd sum of the numbers\n",
        "num_sum = sum(num_list)\n",
        "#divide the sum with length of the list\n",
        "mean = num_sum / len(num_list)\n",
        "print(num_list)\n",
        "print(\"Mean of the above list of numbers is: \" + str(round(mean,2)))"
      ],
      "execution_count": null,
      "outputs": [
        {
          "output_type": "stream",
          "text": [
            "[21, 11, 19, 3, 11, 5]\n",
            "Mean of the above list of numbers is: 11.67\n"
          ],
          "name": "stdout"
        }
      ]
    },
    {
      "cell_type": "code",
      "metadata": {
        "id": "aGj6lNcW1vJP",
        "colab": {
          "base_uri": "https://localhost:8080/"
        },
        "outputId": "41a16a5e-a17f-4e99-be3e-8dfb0e1e2022"
      },
      "source": [
        "import collections\n",
        "# list of elements to calculate mode\n",
        "num_list = [21, 13, 19, 13,19,13]\n",
        "# Print the list\n",
        "print(num_list)\n",
        "# calculate the frequency of each item\n",
        "data = collections.Counter(num_list)\n",
        "data_list = dict(data)\n",
        "# Print the items with frequency\n",
        "print(data_list)\n",
        "# Find the highest frequency\n",
        "max_value = max(list(data.values()))\n",
        "mode_val = [num for num, freq in data_list.items() if freq == max_value]\n",
        "if len(mode_val) == len(num_list):\n",
        "   print(\"No mode in the list\")\n",
        "else:\n",
        "   print(\"The Mode of the list is : \" + ', '.join(map(str, mode_val)))"
      ],
      "execution_count": null,
      "outputs": [
        {
          "output_type": "stream",
          "text": [
            "[21, 13, 19, 13, 19, 13]\n",
            "{21: 1, 13: 3, 19: 2}\n",
            "The Mode of the list is : 13\n"
          ],
          "name": "stdout"
        }
      ]
    },
    {
      "cell_type": "markdown",
      "metadata": {
        "id": "8BSAP9UkfDPD"
      },
      "source": [
        "#2"
      ]
    },
    {
      "cell_type": "code",
      "metadata": {
        "id": "d9RreBS-13ek",
        "colab": {
          "base_uri": "https://localhost:8080/"
        },
        "outputId": "fd0720b9-c328-459e-8595-6805c4c07aea"
      },
      "source": [
        "def variance(data):\n",
        "     # Number of observations\n",
        "     n = len(data)\n",
        "     # Mean of the data\n",
        "     mean = sum(data) / n\n",
        "     # Square deviations\n",
        "     deviations = [(x - mean) ** 2 for x in data]\n",
        "     # Variance\n",
        "     variance = sum(deviations) / n\n",
        "     return variance\n",
        "variance([4, 8, 6, 5, 3, 2, 8, 9, 2, 5])"
      ],
      "execution_count": null,
      "outputs": [
        {
          "output_type": "execute_result",
          "data": {
            "text/plain": [
              "5.76"
            ]
          },
          "metadata": {
            "tags": []
          },
          "execution_count": 1
        }
      ]
    },
    {
      "cell_type": "code",
      "metadata": {
        "id": "9xO5aSJkfm7B",
        "colab": {
          "base_uri": "https://localhost:8080/"
        },
        "outputId": "046b2db7-d91f-40de-92b6-cf59ff7851b0"
      },
      "source": [
        "import math\n",
        "def variance(data):\n",
        "     n = len(data)\n",
        "     mean = sum(data) / n\n",
        "     deviations = [(x - mean) ** 2 for x in data]\n",
        "     variance = sum(deviations) / n\n",
        "     return variance\n",
        "def stdev(data):\n",
        "     var = variance(data)\n",
        "     std_dev = math.sqrt(var)\n",
        "     return std_dev\n",
        "\n",
        "stdev([4, 8, 6, 5, 3, 2, 8, 9, 2, 5])"
      ],
      "execution_count": null,
      "outputs": [
        {
          "output_type": "execute_result",
          "data": {
            "text/plain": [
              "2.4"
            ]
          },
          "metadata": {
            "tags": []
          },
          "execution_count": 3
        }
      ]
    },
    {
      "cell_type": "markdown",
      "metadata": {
        "id": "ieXkEPuYnOYy"
      },
      "source": [
        "#3"
      ]
    },
    {
      "cell_type": "code",
      "metadata": {
        "id": "RJL3Tw_DgoDu",
        "colab": {
          "base_uri": "https://localhost:8080/"
        },
        "outputId": "20a625b3-2639-4d39-9d99-3cd187a12e6d"
      },
      "source": [
        "#List \n",
        "L = [1, \"a\" , \"string\" , 1+2] \n",
        "print(L) \n",
        "L.append(6) \n",
        "print (L) \n",
        "L.pop() \n",
        "print(L) \n",
        "print(L[1])\n",
        "\n",
        "#Tuple\n",
        "tup = (1, \"a\", \"string\", 1+2) \n",
        "print(tup) \n",
        "print(tup[1]) \n",
        "\n",
        "#String\n",
        "s = \"Hello World\"\n",
        "for i in s : \n",
        "    print (i)\n",
        "\n",
        "#Dictionary\n",
        "dict1 = {'Ten': 10, 'Twenty': 20, 'Thirty': 30}\n",
        "print(dict1)"
      ],
      "execution_count": null,
      "outputs": [
        {
          "output_type": "stream",
          "text": [
            "[1, 'a', 'string', 3]\n",
            "[1, 'a', 'string', 3, 6]\n",
            "[1, 'a', 'string', 3]\n",
            "a\n",
            "(1, 'a', 'string', 3)\n",
            "a\n",
            "H\n",
            "e\n",
            "l\n",
            "l\n",
            "o\n",
            " \n",
            "W\n",
            "o\n",
            "r\n",
            "l\n",
            "d\n",
            "{'Ten': 10, 'Twenty': 20, 'Thirty': 30}\n"
          ],
          "name": "stdout"
        }
      ]
    },
    {
      "cell_type": "markdown",
      "metadata": {
        "id": "CG5y2Co1oBj_"
      },
      "source": [
        "#Assignment - 2"
      ]
    },
    {
      "cell_type": "code",
      "metadata": {
        "id": "rA-WZJ-5PiRG"
      },
      "source": [
        "import pandas as pd"
      ],
      "execution_count": 10,
      "outputs": []
    },
    {
      "cell_type": "code",
      "metadata": {
        "colab": {
          "resources": {
            "http://localhost:8080/nbextensions/google.colab/files.js": {
              "data": "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",
              "ok": true,
              "headers": [
                [
                  "content-type",
                  "application/javascript"
                ]
              ],
              "status": 200,
              "status_text": ""
            }
          },
          "base_uri": "https://localhost:8080/",
          "height": 73
        },
        "id": "O2_3K71HTRUZ",
        "outputId": "140f7540-a84e-4f93-c7b1-2cf9ae759e12"
      },
      "source": [
        "from google.colab import files\n",
        "uploaded=files.upload()"
      ],
      "execution_count": 15,
      "outputs": [
        {
          "output_type": "display_data",
          "data": {
            "text/html": [
              "\n",
              "     <input type=\"file\" id=\"files-8dde88d7-adb5-4b44-9a71-aeb57f0e3094\" name=\"files[]\" multiple disabled\n",
              "        style=\"border:none\" />\n",
              "     <output id=\"result-8dde88d7-adb5-4b44-9a71-aeb57f0e3094\">\n",
              "      Upload widget is only available when the cell has been executed in the\n",
              "      current browser session. Please rerun this cell to enable.\n",
              "      </output>\n",
              "      <script src=\"/nbextensions/google.colab/files.js\"></script> "
            ],
            "text/plain": [
              "<IPython.core.display.HTML object>"
            ]
          },
          "metadata": {
            "tags": []
          }
        },
        {
          "output_type": "stream",
          "text": [
            "Saving Pokemon.csv to Pokemon.csv\n"
          ],
          "name": "stdout"
        }
      ]
    },
    {
      "cell_type": "code",
      "metadata": {
        "id": "R3moKc_TUeu8"
      },
      "source": [
        "import io"
      ],
      "execution_count": 16,
      "outputs": []
    },
    {
      "cell_type": "code",
      "metadata": {
        "id": "0A5F4eAbUkpp"
      },
      "source": [
        "df=pd.read_csv(io.BytesIO(uploaded[\"Pokemon.csv\"]))"
      ],
      "execution_count": 17,
      "outputs": []
    },
    {
      "cell_type": "code",
      "metadata": {
        "colab": {
          "base_uri": "https://localhost:8080/",
          "height": 195
        },
        "id": "3-L4AKnwUrw7",
        "outputId": "879ef396-b72f-4278-830a-7e7c38e0411c"
      },
      "source": [
        "df.head()"
      ],
      "execution_count": 18,
      "outputs": [
        {
          "output_type": "execute_result",
          "data": {
            "text/html": [
              "<div>\n",
              "<style scoped>\n",
              "    .dataframe tbody tr th:only-of-type {\n",
              "        vertical-align: middle;\n",
              "    }\n",
              "\n",
              "    .dataframe tbody tr th {\n",
              "        vertical-align: top;\n",
              "    }\n",
              "\n",
              "    .dataframe thead th {\n",
              "        text-align: right;\n",
              "    }\n",
              "</style>\n",
              "<table border=\"1\" class=\"dataframe\">\n",
              "  <thead>\n",
              "    <tr style=\"text-align: right;\">\n",
              "      <th></th>\n",
              "      <th>#</th>\n",
              "      <th>Name</th>\n",
              "      <th>Type 1</th>\n",
              "      <th>Type 2</th>\n",
              "      <th>Total</th>\n",
              "      <th>HP</th>\n",
              "      <th>Attack</th>\n",
              "      <th>Defense</th>\n",
              "      <th>Sp. Atk</th>\n",
              "      <th>Sp. Def</th>\n",
              "      <th>Speed</th>\n",
              "      <th>Generation</th>\n",
              "      <th>Legendary</th>\n",
              "    </tr>\n",
              "  </thead>\n",
              "  <tbody>\n",
              "    <tr>\n",
              "      <th>0</th>\n",
              "      <td>1</td>\n",
              "      <td>Bulbasaur</td>\n",
              "      <td>Grass</td>\n",
              "      <td>Poison</td>\n",
              "      <td>318</td>\n",
              "      <td>45</td>\n",
              "      <td>49</td>\n",
              "      <td>49</td>\n",
              "      <td>65</td>\n",
              "      <td>65</td>\n",
              "      <td>45</td>\n",
              "      <td>1</td>\n",
              "      <td>False</td>\n",
              "    </tr>\n",
              "    <tr>\n",
              "      <th>1</th>\n",
              "      <td>2</td>\n",
              "      <td>Ivysaur</td>\n",
              "      <td>Grass</td>\n",
              "      <td>Poison</td>\n",
              "      <td>405</td>\n",
              "      <td>60</td>\n",
              "      <td>62</td>\n",
              "      <td>63</td>\n",
              "      <td>80</td>\n",
              "      <td>80</td>\n",
              "      <td>60</td>\n",
              "      <td>1</td>\n",
              "      <td>False</td>\n",
              "    </tr>\n",
              "    <tr>\n",
              "      <th>2</th>\n",
              "      <td>3</td>\n",
              "      <td>Venusaur</td>\n",
              "      <td>Grass</td>\n",
              "      <td>Poison</td>\n",
              "      <td>525</td>\n",
              "      <td>80</td>\n",
              "      <td>82</td>\n",
              "      <td>83</td>\n",
              "      <td>100</td>\n",
              "      <td>100</td>\n",
              "      <td>80</td>\n",
              "      <td>1</td>\n",
              "      <td>False</td>\n",
              "    </tr>\n",
              "    <tr>\n",
              "      <th>3</th>\n",
              "      <td>3</td>\n",
              "      <td>VenusaurMega Venusaur</td>\n",
              "      <td>Grass</td>\n",
              "      <td>Poison</td>\n",
              "      <td>625</td>\n",
              "      <td>80</td>\n",
              "      <td>100</td>\n",
              "      <td>123</td>\n",
              "      <td>122</td>\n",
              "      <td>120</td>\n",
              "      <td>80</td>\n",
              "      <td>1</td>\n",
              "      <td>False</td>\n",
              "    </tr>\n",
              "    <tr>\n",
              "      <th>4</th>\n",
              "      <td>4</td>\n",
              "      <td>Charmander</td>\n",
              "      <td>Fire</td>\n",
              "      <td>NaN</td>\n",
              "      <td>309</td>\n",
              "      <td>39</td>\n",
              "      <td>52</td>\n",
              "      <td>43</td>\n",
              "      <td>60</td>\n",
              "      <td>50</td>\n",
              "      <td>65</td>\n",
              "      <td>1</td>\n",
              "      <td>False</td>\n",
              "    </tr>\n",
              "  </tbody>\n",
              "</table>\n",
              "</div>"
            ],
            "text/plain": [
              "   #                   Name Type 1  ... Speed  Generation  Legendary\n",
              "0  1              Bulbasaur  Grass  ...    45           1      False\n",
              "1  2                Ivysaur  Grass  ...    60           1      False\n",
              "2  3               Venusaur  Grass  ...    80           1      False\n",
              "3  3  VenusaurMega Venusaur  Grass  ...    80           1      False\n",
              "4  4             Charmander   Fire  ...    65           1      False\n",
              "\n",
              "[5 rows x 13 columns]"
            ]
          },
          "metadata": {
            "tags": []
          },
          "execution_count": 18
        }
      ]
    },
    {
      "cell_type": "code",
      "metadata": {
        "id": "iK1YyF4UY11F",
        "colab": {
          "base_uri": "https://localhost:8080/",
          "height": 195
        },
        "outputId": "7518f220-3d6e-4d33-b21d-bd5557b9d1b1"
      },
      "source": [
        "df.tail()"
      ],
      "execution_count": 19,
      "outputs": [
        {
          "output_type": "execute_result",
          "data": {
            "text/html": [
              "<div>\n",
              "<style scoped>\n",
              "    .dataframe tbody tr th:only-of-type {\n",
              "        vertical-align: middle;\n",
              "    }\n",
              "\n",
              "    .dataframe tbody tr th {\n",
              "        vertical-align: top;\n",
              "    }\n",
              "\n",
              "    .dataframe thead th {\n",
              "        text-align: right;\n",
              "    }\n",
              "</style>\n",
              "<table border=\"1\" class=\"dataframe\">\n",
              "  <thead>\n",
              "    <tr style=\"text-align: right;\">\n",
              "      <th></th>\n",
              "      <th>#</th>\n",
              "      <th>Name</th>\n",
              "      <th>Type 1</th>\n",
              "      <th>Type 2</th>\n",
              "      <th>Total</th>\n",
              "      <th>HP</th>\n",
              "      <th>Attack</th>\n",
              "      <th>Defense</th>\n",
              "      <th>Sp. Atk</th>\n",
              "      <th>Sp. Def</th>\n",
              "      <th>Speed</th>\n",
              "      <th>Generation</th>\n",
              "      <th>Legendary</th>\n",
              "    </tr>\n",
              "  </thead>\n",
              "  <tbody>\n",
              "    <tr>\n",
              "      <th>795</th>\n",
              "      <td>719</td>\n",
              "      <td>Diancie</td>\n",
              "      <td>Rock</td>\n",
              "      <td>Fairy</td>\n",
              "      <td>600</td>\n",
              "      <td>50</td>\n",
              "      <td>100</td>\n",
              "      <td>150</td>\n",
              "      <td>100</td>\n",
              "      <td>150</td>\n",
              "      <td>50</td>\n",
              "      <td>6</td>\n",
              "      <td>True</td>\n",
              "    </tr>\n",
              "    <tr>\n",
              "      <th>796</th>\n",
              "      <td>719</td>\n",
              "      <td>DiancieMega Diancie</td>\n",
              "      <td>Rock</td>\n",
              "      <td>Fairy</td>\n",
              "      <td>700</td>\n",
              "      <td>50</td>\n",
              "      <td>160</td>\n",
              "      <td>110</td>\n",
              "      <td>160</td>\n",
              "      <td>110</td>\n",
              "      <td>110</td>\n",
              "      <td>6</td>\n",
              "      <td>True</td>\n",
              "    </tr>\n",
              "    <tr>\n",
              "      <th>797</th>\n",
              "      <td>720</td>\n",
              "      <td>HoopaHoopa Confined</td>\n",
              "      <td>Psychic</td>\n",
              "      <td>Ghost</td>\n",
              "      <td>600</td>\n",
              "      <td>80</td>\n",
              "      <td>110</td>\n",
              "      <td>60</td>\n",
              "      <td>150</td>\n",
              "      <td>130</td>\n",
              "      <td>70</td>\n",
              "      <td>6</td>\n",
              "      <td>True</td>\n",
              "    </tr>\n",
              "    <tr>\n",
              "      <th>798</th>\n",
              "      <td>720</td>\n",
              "      <td>HoopaHoopa Unbound</td>\n",
              "      <td>Psychic</td>\n",
              "      <td>Dark</td>\n",
              "      <td>680</td>\n",
              "      <td>80</td>\n",
              "      <td>160</td>\n",
              "      <td>60</td>\n",
              "      <td>170</td>\n",
              "      <td>130</td>\n",
              "      <td>80</td>\n",
              "      <td>6</td>\n",
              "      <td>True</td>\n",
              "    </tr>\n",
              "    <tr>\n",
              "      <th>799</th>\n",
              "      <td>721</td>\n",
              "      <td>Volcanion</td>\n",
              "      <td>Fire</td>\n",
              "      <td>Water</td>\n",
              "      <td>600</td>\n",
              "      <td>80</td>\n",
              "      <td>110</td>\n",
              "      <td>120</td>\n",
              "      <td>130</td>\n",
              "      <td>90</td>\n",
              "      <td>70</td>\n",
              "      <td>6</td>\n",
              "      <td>True</td>\n",
              "    </tr>\n",
              "  </tbody>\n",
              "</table>\n",
              "</div>"
            ],
            "text/plain": [
              "       #                 Name   Type 1  ... Speed  Generation  Legendary\n",
              "795  719              Diancie     Rock  ...    50           6       True\n",
              "796  719  DiancieMega Diancie     Rock  ...   110           6       True\n",
              "797  720  HoopaHoopa Confined  Psychic  ...    70           6       True\n",
              "798  720   HoopaHoopa Unbound  Psychic  ...    80           6       True\n",
              "799  721            Volcanion     Fire  ...    70           6       True\n",
              "\n",
              "[5 rows x 13 columns]"
            ]
          },
          "metadata": {
            "tags": []
          },
          "execution_count": 19
        }
      ]
    },
    {
      "cell_type": "markdown",
      "metadata": {
        "id": "OXGF7tgTWcOE"
      },
      "source": [
        "#2 Practice 10 python programs using numpy libraries."
      ]
    },
    {
      "cell_type": "code",
      "metadata": {
        "colab": {
          "base_uri": "https://localhost:8080/"
        },
        "id": "YVIF2ZNFPOop",
        "outputId": "d6b08767-0e45-4484-9778-951e99870e01"
      },
      "source": [
        "import numpy as np\n",
        "x = np.eye(5,dtype=int)\n",
        "print(\"x =\\n\",x)"
      ],
      "execution_count": 20,
      "outputs": [
        {
          "output_type": "stream",
          "text": [
            "x =\n",
            " [[1 0 0 0 0]\n",
            " [0 1 0 0 0]\n",
            " [0 0 1 0 0]\n",
            " [0 0 0 1 0]\n",
            " [0 0 0 0 1]]\n"
          ],
          "name": "stdout"
        }
      ]
    },
    {
      "cell_type": "code",
      "metadata": {
        "colab": {
          "base_uri": "https://localhost:8080/"
        },
        "id": "xiR0zZSDVgSt",
        "outputId": "114b12de-61db-407d-b6a6-65975a438bf6"
      },
      "source": [
        "import numpy as np\n",
        "arr = np.array([1, 2, 3, 4, 5])\n",
        "print(arr)"
      ],
      "execution_count": 36,
      "outputs": [
        {
          "output_type": "stream",
          "text": [
            "[1 2 3 4 5]\n"
          ],
          "name": "stdout"
        }
      ]
    },
    {
      "cell_type": "code",
      "metadata": {
        "colab": {
          "base_uri": "https://localhost:8080/"
        },
        "id": "N4Whsu5ZRw5w",
        "outputId": "09c99c7c-27d3-49ec-f8ea-b8a1add197cf"
      },
      "source": [
        "import numpy as np\n",
        "a = [[1, 2], [3, 4]]\n",
        "x = np.array(a)\n",
        "print(\"list to array:\\n\",x)\n",
        "a2 = x.tolist()\n",
        "print(\"array to list:\\n\",a2)\n",
        "print(a == a2)"
      ],
      "execution_count": 21,
      "outputs": [
        {
          "output_type": "stream",
          "text": [
            "list to array:\n",
            " [[1 2]\n",
            " [3 4]]\n",
            "array to list:\n",
            " [[1, 2], [3, 4]]\n",
            "True\n"
          ],
          "name": "stdout"
        }
      ]
    },
    {
      "cell_type": "code",
      "metadata": {
        "colab": {
          "base_uri": "https://localhost:8080/"
        },
        "id": "f9NvnhiFV0Ua",
        "outputId": "ebca3459-fa52-40c7-adef-e6f88e34926e"
      },
      "source": [
        "import numpy as np\n",
        "a = np.array(42)\n",
        "b = np.array([1, 2, 3, 4, 5])\n",
        "c = np.array([[1, 2, 3], [4, 5, 6]])\n",
        "d = np.array([[[1, 2, 3], [4, 5, 6]], [[1, 2, 3], [4, 5, 6]]])\n",
        "print(a.ndim)\n",
        "print(b.ndim)\n",
        "print(c.ndim)\n",
        "print(d.ndim)"
      ],
      "execution_count": 37,
      "outputs": [
        {
          "output_type": "stream",
          "text": [
            "0\n",
            "1\n",
            "2\n",
            "3\n"
          ],
          "name": "stdout"
        }
      ]
    },
    {
      "cell_type": "code",
      "metadata": {
        "colab": {
          "base_uri": "https://localhost:8080/"
        },
        "id": "E_enLVr9R_l1",
        "outputId": "82cb73bb-aaf8-4aee-bde2-4b44d728df32"
      },
      "source": [
        "import numpy as np\n",
        "x = np.random.random((5,5))\n",
        "print(\"Original Array:\")\n",
        "print(x) \n",
        "xmin, xmax = x.min(), x.max()\n",
        "print(\"Minimum and Maximum Values:\")\n",
        "print(xmin, xmax)"
      ],
      "execution_count": 26,
      "outputs": [
        {
          "output_type": "stream",
          "text": [
            "Original Array:\n",
            "[[0.32177077 0.40103823 0.57253732 0.79354348 0.04586433]\n",
            " [0.8736775  0.10889712 0.51296176 0.0732783  0.47162935]\n",
            " [0.04040477 0.54161871 0.20379158 0.09022012 0.52720768]\n",
            " [0.99577293 0.59046954 0.69849459 0.32943152 0.54514085]\n",
            " [0.23153077 0.65833182 0.00811373 0.21087551 0.06975786]]\n",
            "Minimum and Maximum Values:\n",
            "0.008113728716270807 0.9957729327166129\n"
          ],
          "name": "stdout"
        }
      ]
    },
    {
      "cell_type": "code",
      "metadata": {
        "colab": {
          "base_uri": "https://localhost:8080/"
        },
        "id": "JFjAWxFXSAGZ",
        "outputId": "8550a443-992a-4cf8-de7d-132b0c8b2e0b"
      },
      "source": [
        "import numpy as np\n",
        "nums =  np.random.rand(15)\n",
        "print(\"Original array:\")\n",
        "print(nums)\n",
        "print(\"\\nSorted first 5 elements:\")\n",
        "print(nums[np.argpartition(nums,range(8))])"
      ],
      "execution_count": 23,
      "outputs": [
        {
          "output_type": "stream",
          "text": [
            "Original array:\n",
            "[0.94434521 0.58915081 0.92100399 0.84151431 0.50748722 0.83397201\n",
            " 0.30676142 0.21330236 0.02012902 0.17546695 0.34683304 0.18919984\n",
            " 0.72691119 0.37950881 0.31827639]\n",
            "\n",
            "Sorted first 5 elements:\n",
            "[0.02012902 0.17546695 0.18919984 0.21330236 0.30676142 0.31827639\n",
            " 0.34683304 0.37950881 0.94434521 0.58915081 0.50748722 0.92100399\n",
            " 0.72691119 0.84151431 0.83397201]\n"
          ],
          "name": "stdout"
        }
      ]
    },
    {
      "cell_type": "code",
      "metadata": {
        "colab": {
          "base_uri": "https://localhost:8080/"
        },
        "id": "Sfk7gGg5SAOC",
        "outputId": "9ade4c2d-877e-4ff4-f67d-de8dbcf803b5"
      },
      "source": [
        "x = np.array([[1,2,3], [4,5,6]])\n",
        "print(\"Original array: \")\n",
        "print(x)\n",
        "print(\"Cumulative sum of the elements along a given axis:\")\n",
        "r = np.cumsum(x)\n",
        "print(r)\n",
        "print(\"\\nSum over rows for each of the 3 columns:\")\n",
        "r = np.cumsum(x,axis=0) \n",
        "print(r)\n",
        "print(\"\\nSum over columns for each of the 2 rows:\")\n",
        "r = np.cumsum(x,axis=1) \n",
        "print(r)"
      ],
      "execution_count": 27,
      "outputs": [
        {
          "output_type": "stream",
          "text": [
            "Original array: \n",
            "[[1 2 3]\n",
            " [4 5 6]]\n",
            "Cumulative sum of the elements along a given axis:\n",
            "[ 1  3  6 10 15 21]\n",
            "\n",
            "Sum over rows for each of the 3 columns:\n",
            "[[1 2 3]\n",
            " [5 7 9]]\n",
            "\n",
            "Sum over columns for each of the 2 rows:\n",
            "[[ 1  3  6]\n",
            " [ 4  9 15]]\n"
          ],
          "name": "stdout"
        }
      ]
    },
    {
      "cell_type": "code",
      "metadata": {
        "colab": {
          "base_uri": "https://localhost:8080/"
        },
        "id": "p2dwBsNNSALj",
        "outputId": "16c42df0-973a-45c9-a071-d553e986cbd3"
      },
      "source": [
        "import numpy as np\n",
        "yesterday = np.datetime64('today', 'D') - np.timedelta64(1, 'D')\n",
        "print(\"Yestraday: \",yesterday)\n",
        "today     = np.datetime64('today', 'D')\n",
        "print(\"Today: \",today)\n",
        "tomorrow  = np.datetime64('today', 'D') + np.timedelta64(1, 'D')\n",
        "print(\"Tomorrow: \",tomorrow)"
      ],
      "execution_count": 28,
      "outputs": [
        {
          "output_type": "stream",
          "text": [
            "Yestraday:  2020-11-20\n",
            "Today:  2020-11-21\n",
            "Tomorrow:  2020-11-22\n"
          ],
          "name": "stdout"
        }
      ]
    },
    {
      "cell_type": "code",
      "metadata": {
        "colab": {
          "base_uri": "https://localhost:8080/"
        },
        "id": "BM5vCDNhR_6e",
        "outputId": "e334a4c5-a389-4b52-c1f0-880e04bb743e"
      },
      "source": [
        "import numpy as np\n",
        "x = np.array([' python exercises ', ' PHP  ', ' java  ', '  C++'], dtype=np.str)\n",
        "print(\"Original Array:\")\n",
        "print(x)\n",
        "stripped = np.char.strip(x)\n",
        "print(\"\\nRemove the leading and trailing whitespaces: \", stripped)"
      ],
      "execution_count": 29,
      "outputs": [
        {
          "output_type": "stream",
          "text": [
            "Original Array:\n",
            "[' python exercises ' ' PHP  ' ' java  ' '  C++']\n",
            "\n",
            "Remove the leading and trailing whitespaces:  ['python exercises' 'PHP' 'java' 'C++']\n"
          ],
          "name": "stdout"
        }
      ]
    },
    {
      "cell_type": "markdown",
      "metadata": {
        "id": "Hq0UgLZ7UyWt"
      },
      "source": [
        "#3 Practice 10 python methos using pandas libraries."
      ]
    },
    {
      "cell_type": "code",
      "metadata": {
        "colab": {
          "base_uri": "https://localhost:8080/"
        },
        "id": "D9RnwjYqWLPm",
        "outputId": "6c0f0551-8bbb-47f2-ed36-4087e4d6e518"
      },
      "source": [
        "#1.Write a Pandas program to add, subtract, multiple and divide two Pandas Series.\n",
        "import pandas as pd\n",
        "ds1 = pd.Series([2, 4, 6, 8, 10])\n",
        "ds2 = pd.Series([1, 3, 5, 7, 9])\n",
        "ds = ds1 + ds2\n",
        "print(\"Add two Series:\")\n",
        "print(ds)\n",
        "print(\"Subtract two Series:\")\n",
        "ds = ds1 - ds2\n",
        "print(ds)\n",
        "print(\"Multiply two Series:\")\n",
        "ds = ds1 * ds2\n",
        "print(ds)\n",
        "print(\"Divide Series1 by Series2:\")\n",
        "ds = ds1 / ds2\n",
        "print(ds)"
      ],
      "execution_count": 40,
      "outputs": [
        {
          "output_type": "stream",
          "text": [
            "Add two Series:\n",
            "0     3\n",
            "1     7\n",
            "2    11\n",
            "3    15\n",
            "4    19\n",
            "dtype: int64\n",
            "Subtract two Series:\n",
            "0    1\n",
            "1    1\n",
            "2    1\n",
            "3    1\n",
            "4    1\n",
            "dtype: int64\n",
            "Multiply two Series:\n",
            "0     2\n",
            "1    12\n",
            "2    30\n",
            "3    56\n",
            "4    90\n",
            "dtype: int64\n",
            "Divide Series1 by Series2:\n",
            "0    2.000000\n",
            "1    1.333333\n",
            "2    1.200000\n",
            "3    1.142857\n",
            "4    1.111111\n",
            "dtype: float64\n"
          ],
          "name": "stdout"
        }
      ]
    },
    {
      "cell_type": "code",
      "metadata": {
        "colab": {
          "base_uri": "https://localhost:8080/"
        },
        "id": "fAN8G53LWo1O",
        "outputId": "f4b9b82b-409d-484d-c3c5-605b85ba3584"
      },
      "source": [
        "#2.Write a Pandas program to iterate over rows in a DataFrame.\n",
        "import pandas as pd\n",
        "import numpy as np\n",
        "exam_data = [{'name':'Anastasia', 'score':12.5}, {'name':'Dima','score':9}, {'name':'Katherine','score':16.5}]\n",
        "df = pd.DataFrame(exam_data)\n",
        "for index, row in df.iterrows():\n",
        "    print(row['name'], row['score'])"
      ],
      "execution_count": 42,
      "outputs": [
        {
          "output_type": "stream",
          "text": [
            "Anastasia 12.5\n",
            "Dima 9.0\n",
            "Katherine 16.5\n"
          ],
          "name": "stdout"
        }
      ]
    },
    {
      "cell_type": "code",
      "metadata": {
        "colab": {
          "base_uri": "https://localhost:8080/"
        },
        "id": "DceEk396Wp5e",
        "outputId": "7b00cce3-5182-4198-cee6-1bb6c57a18f0"
      },
      "source": [
        "#3.Write a Pandas program to start index with different value rather than 0 in a given DataFrame.\n",
        "import pandas as pd\n",
        "df = pd.DataFrame({\n",
        "    'school_code': ['s001','s002','s003','s001','s002','s004'],\n",
        "    'class': ['V', 'V', 'VI', 'VI', 'V', 'VI'],\n",
        "    'name': ['Alberto Franco','Gino Mcneill','Ryan Parkes', 'Eesha Hinton', 'Gino Mcneill', 'David Parkes'],\n",
        "    'date_of_birth': ['15/05/2002','17/05/2002','16/02/1999','25/09/1998','11/05/2002','15/09/1997'],\n",
        "    'weight': [35, 37, 33, 30, 31, 32]})\n",
        "     \n",
        "print(\"Original DataFrame:\")\n",
        "print(df)\n",
        "print(\"\\nDefault Index Range:\")\n",
        "print(df.index)\n",
        "df.index += 10 \n",
        "print(\"\\nNew Index Range:\")\n",
        "print(df.index)\n",
        "print(\"\\nDataFrame with new index:\")\n",
        "print(df)"
      ],
      "execution_count": 41,
      "outputs": [
        {
          "output_type": "stream",
          "text": [
            "Original DataFrame:\n",
            "  school_code class            name date_of_birth  weight\n",
            "0        s001     V  Alberto Franco    15/05/2002      35\n",
            "1        s002     V    Gino Mcneill    17/05/2002      37\n",
            "2        s003    VI     Ryan Parkes    16/02/1999      33\n",
            "3        s001    VI    Eesha Hinton    25/09/1998      30\n",
            "4        s002     V    Gino Mcneill    11/05/2002      31\n",
            "5        s004    VI    David Parkes    15/09/1997      32\n",
            "\n",
            "Default Index Range:\n",
            "RangeIndex(start=0, stop=6, step=1)\n",
            "\n",
            "New Index Range:\n",
            "RangeIndex(start=10, stop=16, step=1)\n",
            "\n",
            "DataFrame with new index:\n",
            "   school_code class            name date_of_birth  weight\n",
            "10        s001     V  Alberto Franco    15/05/2002      35\n",
            "11        s002     V    Gino Mcneill    17/05/2002      37\n",
            "12        s003    VI     Ryan Parkes    16/02/1999      33\n",
            "13        s001    VI    Eesha Hinton    25/09/1998      30\n",
            "14        s002     V    Gino Mcneill    11/05/2002      31\n",
            "15        s004    VI    David Parkes    15/09/1997      32\n"
          ],
          "name": "stdout"
        }
      ]
    },
    {
      "cell_type": "code",
      "metadata": {
        "colab": {
          "base_uri": "https://localhost:8080/"
        },
        "id": "DcSrVUKyWqSl",
        "outputId": "455bd88c-d5b8-4485-a197-558ab7fdb259"
      },
      "source": [
        "#4.Write a Pandas program to extract only phone number from the specified column of a given DataFrame.\n",
        "import pandas as pd\n",
        "import re as re\n",
        "pd.set_option('display.max_columns', 10)\n",
        "df = pd.DataFrame({\n",
        "    'company_code': ['c0001','c0002','c0003', 'c0003', 'c0004'],\n",
        "    'company_phone_no': ['Company1-Phone no. 4695168357','Company2-Phone no. 8088729013','Company3-Phone no. 6204658086', 'Company4-Phone no. 5159530096', 'Company5-Phone no. 9037952371']\n",
        "    })\n",
        "print(\"Original DataFrame:\")\n",
        "print(df)\n",
        "def find_phone_number(text):\n",
        "    ph_no = re.findall(r\"\\b\\d{10}\\b\",text)\n",
        "    return \"\".join(ph_no)\n",
        "df['number']=df['company_phone_no'].apply(lambda x: find_phone_number(x))\n",
        "print(\"\\Extracting numbers from dataframe columns:\")\n",
        "print(df)"
      ],
      "execution_count": 43,
      "outputs": [
        {
          "output_type": "stream",
          "text": [
            "Original DataFrame:\n",
            "  company_code               company_phone_no\n",
            "0        c0001  Company1-Phone no. 4695168357\n",
            "1        c0002  Company2-Phone no. 8088729013\n",
            "2        c0003  Company3-Phone no. 6204658086\n",
            "3        c0003  Company4-Phone no. 5159530096\n",
            "4        c0004  Company5-Phone no. 9037952371\n",
            "\\Extracting numbers from dataframe columns:\n",
            "  company_code               company_phone_no      number\n",
            "0        c0001  Company1-Phone no. 4695168357  4695168357\n",
            "1        c0002  Company2-Phone no. 8088729013  8088729013\n",
            "2        c0003  Company3-Phone no. 6204658086  6204658086\n",
            "3        c0003  Company4-Phone no. 5159530096  5159530096\n",
            "4        c0004  Company5-Phone no. 9037952371  9037952371\n"
          ],
          "name": "stdout"
        }
      ]
    },
    {
      "cell_type": "code",
      "metadata": {
        "colab": {
          "base_uri": "https://localhost:8080/"
        },
        "id": "7a-fi9upWqp0",
        "outputId": "ebae8297-bb6e-41c7-bc8f-4b4e473a7c47"
      },
      "source": [
        "#5.Write a Pandas program to Combine two DataFrame objects by filling null values in one DataFrame with non-null values from other DataFrame.\n",
        "import pandas as pd\n",
        "df1 = pd.DataFrame({'A': [None, 0, None], 'B': [3, 4, 5]})\n",
        "df2 = pd.DataFrame({'A': [1, 1, 3], 'B': [3, None, 3]})\n",
        "df1.combine_first(df2)\n",
        "print(\"Original DataFrames:\")\n",
        "print(df1)\n",
        "print(\"--------------------\")\n",
        "print(df2)\n",
        "print(\"\\nMerge two dataframes with different columns:\")\n",
        "result = df1.combine_first(df2)\n",
        "print(result)"
      ],
      "execution_count": 44,
      "outputs": [
        {
          "output_type": "stream",
          "text": [
            "Original DataFrames:\n",
            "     A  B\n",
            "0  NaN  3\n",
            "1  0.0  4\n",
            "2  NaN  5\n",
            "--------------------\n",
            "   A    B\n",
            "0  1  3.0\n",
            "1  1  NaN\n",
            "2  3  3.0\n",
            "\n",
            "Merge two dataframes with different columns:\n",
            "     A  B\n",
            "0  1.0  3\n",
            "1  0.0  4\n",
            "2  3.0  5\n"
          ],
          "name": "stdout"
        }
      ]
    },
    {
      "cell_type": "code",
      "metadata": {
        "colab": {
          "base_uri": "https://localhost:8080/"
        },
        "id": "xw_i9WjwWq-K",
        "outputId": "17d41035-9be5-4cca-8a85-0906bf350387"
      },
      "source": [
        "#6.Write a Pandas program to create\n",
        "#a) Datetime object for Jan 15 2012.\n",
        "#b) Specific date and time of 9:20 pm.\n",
        "#c) Local date and time.\n",
        "#d) A date without time.\n",
        "#e) Current date.\n",
        "#f) Time from a datetime.\n",
        "#g) Current local time.\n",
        "import datetime\n",
        "from datetime import datetime\n",
        "print(\"Datetime object for Jan 11 2012:\")\n",
        "print(datetime(2012, 1, 11))\n",
        "print(\"\\nSpecific date and time of 9:20 pm\") \n",
        "print(datetime(2011, 1, 11, 21, 20))\n",
        "print(\"\\nLocal date and time:\")\n",
        "print(datetime.now())\n",
        "print(\"\\nA date without time: \")\n",
        "print(datetime.date(datetime(2012, 5, 22)))\n",
        "print(\"\\nCurrent date:\")\n",
        "print(datetime.now().date())\n",
        "print(\"\\nTime from a datetime:\")\n",
        "print(datetime.time(datetime(2012, 12, 15, 18, 12)))\n",
        "print(\"\\nCurrent local time:\") \n",
        "print(datetime.now().time())"
      ],
      "execution_count": 45,
      "outputs": [
        {
          "output_type": "stream",
          "text": [
            "Datetime object for Jan 11 2012:\n",
            "2012-01-11 00:00:00\n",
            "\n",
            "Specific date and time of 9:20 pm\n",
            "2011-01-11 21:20:00\n",
            "\n",
            "Local date and time:\n",
            "2020-11-21 15:13:36.346846\n",
            "\n",
            "A date without time: \n",
            "2012-05-22\n",
            "\n",
            "Current date:\n",
            "2020-11-21\n",
            "\n",
            "Time from a datetime:\n",
            "18:12:00\n",
            "\n",
            "Current local time:\n",
            "15:13:36.348313\n"
          ],
          "name": "stdout"
        }
      ]
    },
    {
      "cell_type": "code",
      "metadata": {
        "colab": {
          "base_uri": "https://localhost:8080/"
        },
        "id": "BdBj-Aa_Wqz8",
        "outputId": "2486b213-66a5-4e2c-f852-2532f45b8a6d"
      },
      "source": [
        "#7.Write a Pandas program to find out the alcohol consumption details in the year '1986' or '1989' where WHO region is 'Americas' or 'Europe' from the world alcohol consumption dataset.\n",
        "import pandas as pd\n",
        "url = \"https://raw.githubusercontent.com/Akash2oc98/18cse037-gietu_DMDW_lab-work/main/world_alcohol.csv\"\n",
        "w_a_con =pd.read_csv(url)\n",
        "print(\"World alcohol consumption sample data:\")\n",
        "print(w_a_con.head())\n",
        "print(\"\\nThe world alcohol consumption details in the year ‘1986’ or ‘1989’ where  WHO region is ‘Americas’  or 'Europe':\")\n",
        "print(w_a_con[((w_a_con['Year']==1985) | (w_a_con['Year']==1989)) & ((w_a_con['WHO region']=='Americas') | (w_a_con['WHO region']=='Europe'))].head(10))"
      ],
      "execution_count": 46,
      "outputs": [
        {
          "output_type": "stream",
          "text": [
            "World alcohol consumption sample data:\n",
            "   Year       WHO region                Country Beverage Types  Display Value\n",
            "0  1986  Western Pacific               Viet Nam           Wine           0.00\n",
            "1  1986         Americas                Uruguay          Other           0.50\n",
            "2  1985           Africa           Cte d'Ivoire           Wine           1.62\n",
            "3  1986         Americas               Colombia           Beer           4.27\n",
            "4  1987         Americas  Saint Kitts and Nevis           Beer           1.98\n",
            "\n",
            "The world alcohol consumption details in the year ‘1986’ or ‘1989’ where  WHO region is ‘Americas’  or 'Europe':\n",
            "    Year WHO region                                            Country  \\\n",
            "11  1989   Americas                                          Guatemala   \n",
            "21  1989   Americas                                         Costa Rica   \n",
            "26  1985     Europe  United Kingdom of Great Britain and Northern I...   \n",
            "35  1985   Americas                              Saint Kitts and Nevis   \n",
            "44  1985     Europe                                          Lithuania   \n",
            "50  1985     Europe                                        Switzerland   \n",
            "55  1989   Americas                                           Suriname   \n",
            "57  1989     Europe                                            Croatia   \n",
            "64  1989   Americas                   Bolivia (Plurinational State of)   \n",
            "78  1989   Americas                                            Jamaica   \n",
            "\n",
            "   Beverage Types  Display Value  \n",
            "11           Beer           0.62  \n",
            "21        Spirits           4.51  \n",
            "26           Wine           1.36  \n",
            "35        Spirits           2.24  \n",
            "44          Other            NaN  \n",
            "50          Other           0.30  \n",
            "55           Wine           0.04  \n",
            "57           Wine           5.10  \n",
            "64           Beer           1.26  \n",
            "78          Other           0.00  \n"
          ],
          "name": "stdout"
        }
      ]
    },
    {
      "cell_type": "code",
      "metadata": {
        "colab": {
          "base_uri": "https://localhost:8080/"
        },
        "id": "MrPhZTO4WqeO",
        "outputId": "817fa91e-9a4f-41eb-bac4-343856e24d3f"
      },
      "source": [
        "#8\n",
        "\"\"\"Write a Pandas program to split the following dataset using group by on 'salesman_id' and find the first order date for each group.\n",
        "\n",
        "Test Data:\n",
        "\n",
        "    ord_no  purch_amt    ord_date  customer_id  salesman_id\n",
        "0    70001     150.50  2012-10-05         3002         5002\n",
        "1    70009     270.65  2012-09-10         3001         5003\n",
        "2    70002      65.26  2012-10-05         3001         5001\n",
        "3    70004     110.50  2012-08-17         3003         5003\n",
        "4    70007     948.50  2012-09-10         3002         5002\n",
        "5    70005    2400.60  2012-07-27         3002         5001\n",
        "6    70008    5760.00  2012-09-10         3001         5001\n",
        "7    70010    1983.43  2012-10-10         3004         5003\n",
        "8    70003    2480.40  2012-10-10         3003         5003\n",
        "9    70012     250.45  2012-06-27         3002         5002\n",
        "10   70011      75.29  2012-08-17         3003         5003\n",
        "11   70013    3045.60  2012-04-25         3001         5001\"\"\"\n",
        "import pandas as pd\n",
        "pd.set_option('display.max_rows', None)\n",
        "#pd.set_option('display.max_columns', None)\n",
        "df = pd.DataFrame({\n",
        "'ord_no':[70001,70009,70002,70004,70007,70005,70008,70010,70003,70012,70011,70013],\n",
        "'purch_amt':[150.5,270.65,65.26,110.5,948.5,2400.6,5760,1983.43,2480.4,250.45, 75.29,3045.6],\n",
        "'ord_date': ['2012-10-05','2012-09-10','2012-10-05','2012-08-17','2012-09-10','2012-07-27','2012-09-10','2012-10-10','2012-10-10','2012-06-27','2012-08-17','2012-04-25'],\n",
        "'customer_id':[3005,3001,3002,3009,3005,3007,3002,3004,3009,3008,3003,3002],\n",
        "'salesman_id': [5002,5005,5001,5003,5002,5001,5001,5004,5003,5002,5004,5001]})\n",
        "print(\"Original Orders DataFrame:\")\n",
        "print(df)\n",
        "print(\"\\nGroupby to find first order date for each group(salesman_id):\")\n",
        "result = df.groupby('salesman_id')['ord_date'].min()\n",
        "print(result)"
      ],
      "execution_count": 47,
      "outputs": [
        {
          "output_type": "stream",
          "text": [
            "Original Orders DataFrame:\n",
            "    ord_no  purch_amt    ord_date  customer_id  salesman_id\n",
            "0    70001     150.50  2012-10-05         3005         5002\n",
            "1    70009     270.65  2012-09-10         3001         5005\n",
            "2    70002      65.26  2012-10-05         3002         5001\n",
            "3    70004     110.50  2012-08-17         3009         5003\n",
            "4    70007     948.50  2012-09-10         3005         5002\n",
            "5    70005    2400.60  2012-07-27         3007         5001\n",
            "6    70008    5760.00  2012-09-10         3002         5001\n",
            "7    70010    1983.43  2012-10-10         3004         5004\n",
            "8    70003    2480.40  2012-10-10         3009         5003\n",
            "9    70012     250.45  2012-06-27         3008         5002\n",
            "10   70011      75.29  2012-08-17         3003         5004\n",
            "11   70013    3045.60  2012-04-25         3002         5001\n",
            "\n",
            "Groupby to find first order date for each group(salesman_id):\n",
            "salesman_id\n",
            "5001    2012-04-25\n",
            "5002    2012-06-27\n",
            "5003    2012-08-17\n",
            "5004    2012-08-17\n",
            "5005    2012-09-10\n",
            "Name: ord_date, dtype: object\n"
          ],
          "name": "stdout"
        }
      ]
    },
    {
      "cell_type": "code",
      "metadata": {
        "colab": {
          "base_uri": "https://localhost:8080/"
        },
        "id": "qbvfNTU_WqG5",
        "outputId": "909441bd-9f85-4a24-e7d5-8dff3fa7bbd1"
      },
      "source": [
        "#9\n",
        "\"\"\"Write a Pandas program to find and replace the missing values in a given DataFrame which do not have any valuable information.\n",
        "\n",
        "Example:\n",
        "Missing values: ?, --\n",
        "Replace those values with NaN\n",
        "\n",
        "Test Data:\n",
        "\n",
        "   ord_no purch_amt    ord_date customer_id salesman_id\n",
        "0   70001     150.5           ?        3002        5002\n",
        "1     NaN    270.65  2012-09-10        3001        5003\n",
        "2   70002     65.26         NaN        3001           ?\n",
        "3   70004     110.5  2012-08-17        3003        5001\n",
        "4     NaN     948.5  2012-09-10        3002         NaN\n",
        "5   70005    2400.6  2012-07-27        3001        5002\n",
        "6      --      5760  2012-09-10        3001        5001\n",
        "7   70010         ?  2012-10-10        3004           ?\n",
        "8   70003     12.43  2012-10-10          --        5003\n",
        "9   70012    2480.4  2012-06-27        3002        5002\n",
        "10    NaN    250.45  2012-08-17        3001        5003\n",
        "11  70013    3045.6  2012-04-25        3001          --   \"\"\"\n",
        "import numpy as np\n",
        "pd.set_option('display.max_rows', None)\n",
        "#pd.set_option('display.max_columns', None)\n",
        "df = pd.DataFrame({\n",
        "'ord_no':[70001,np.nan,70002,70004,np.nan,70005,\"--\",70010,70003,70012,np.nan,70013],\n",
        "'purch_amt':[150.5,270.65,65.26,110.5,948.5,2400.6,5760,\"?\",12.43,2480.4,250.45, 3045.6],\n",
        "'ord_date': ['?','2012-09-10',np.nan,'2012-08-17','2012-09-10','2012-07-27','2012-09-10','2012-10-10','2012-10-10','2012-06-27','2012-08-17','2012-04-25'],\n",
        "'customer_id':[3002,3001,3001,3003,3002,3001,3001,3004,\"--\",3002,3001,3001],\n",
        "'salesman_id':[5002,5003,\"?\",5001,np.nan,5002,5001,\"?\",5003,5002,5003,\"--\"]})\n",
        "print(\"Original Orders DataFrame:\")\n",
        "print(df)\n",
        "print(\"\\nReplace the missing values with NaN:\")\n",
        "result = df.replace({\"?\": np.nan, \"--\": np.nan})\n",
        "print(result)"
      ],
      "execution_count": 48,
      "outputs": [
        {
          "output_type": "stream",
          "text": [
            "Original Orders DataFrame:\n",
            "   ord_no purch_amt    ord_date customer_id salesman_id\n",
            "0   70001     150.5           ?        3002        5002\n",
            "1     NaN    270.65  2012-09-10        3001        5003\n",
            "2   70002     65.26         NaN        3001           ?\n",
            "3   70004     110.5  2012-08-17        3003        5001\n",
            "4     NaN     948.5  2012-09-10        3002         NaN\n",
            "5   70005    2400.6  2012-07-27        3001        5002\n",
            "6      --      5760  2012-09-10        3001        5001\n",
            "7   70010         ?  2012-10-10        3004           ?\n",
            "8   70003     12.43  2012-10-10          --        5003\n",
            "9   70012    2480.4  2012-06-27        3002        5002\n",
            "10    NaN    250.45  2012-08-17        3001        5003\n",
            "11  70013    3045.6  2012-04-25        3001          --\n",
            "\n",
            "Replace the missing values with NaN:\n",
            "     ord_no  purch_amt    ord_date  customer_id  salesman_id\n",
            "0   70001.0     150.50         NaN       3002.0       5002.0\n",
            "1       NaN     270.65  2012-09-10       3001.0       5003.0\n",
            "2   70002.0      65.26         NaN       3001.0          NaN\n",
            "3   70004.0     110.50  2012-08-17       3003.0       5001.0\n",
            "4       NaN     948.50  2012-09-10       3002.0          NaN\n",
            "5   70005.0    2400.60  2012-07-27       3001.0       5002.0\n",
            "6       NaN    5760.00  2012-09-10       3001.0       5001.0\n",
            "7   70010.0        NaN  2012-10-10       3004.0          NaN\n",
            "8   70003.0      12.43  2012-10-10          NaN       5003.0\n",
            "9   70012.0    2480.40  2012-06-27       3002.0       5002.0\n",
            "10      NaN     250.45  2012-08-17       3001.0       5003.0\n",
            "11  70013.0    3045.60  2012-04-25       3001.0          NaN\n"
          ],
          "name": "stdout"
        }
      ]
    },
    {
      "cell_type": "code",
      "metadata": {
        "colab": {
          "base_uri": "https://localhost:8080/",
          "height": 474
        },
        "id": "dwLNBhRGWpsZ",
        "outputId": "85cbc00b-5436-45c6-c258-2d9c423a4a21"
      },
      "source": [
        "#10.Create a dataframe of ten rows, four columns with random values. Write a Pandas program to display bar charts in dataframe on specified columns.\n",
        "import pandas as pd\n",
        "import numpy as np\n",
        "np.random.seed(24)\n",
        "df = pd.DataFrame({'A': np.linspace(1, 10, 10)})\n",
        "df = pd.concat([df, pd.DataFrame(np.random.randn(10, 4), columns=list('BCDE'))],\n",
        "               axis=1)\n",
        "df.iloc[0, 2] = np.nan\n",
        "df.iloc[3, 3] = np.nan\n",
        "df.iloc[4, 1] = np.nan\n",
        "df.iloc[9, 4] = np.nan\n",
        "print(\"Original array:\")\n",
        "print(df)\n",
        "print(\"\\nBar charts in dataframe:\")\n",
        "df.style.bar(subset=['B', 'C'], color='#d65f5f')"
      ],
      "execution_count": 49,
      "outputs": [
        {
          "output_type": "stream",
          "text": [
            "Original array:\n",
            "      A         B         C         D         E\n",
            "0   1.0  1.329212       NaN -0.316280 -0.990810\n",
            "1   2.0 -1.070816 -1.438713  0.564417  0.295722\n",
            "2   3.0 -1.626404  0.219565  0.678805  1.889273\n",
            "3   4.0  0.961538  0.104011       NaN  0.850229\n",
            "4   5.0       NaN  1.057737  0.165562  0.515018\n",
            "5   6.0 -1.336936  0.562861  1.392855 -0.063328\n",
            "6   7.0  0.121668  1.207603 -0.002040  1.627796\n",
            "7   8.0  0.354493  1.037528 -0.385684  0.519818\n",
            "8   9.0  1.686583 -1.325963  1.428984 -2.089354\n",
            "9  10.0 -0.129820  0.631523 -0.586538       NaN\n",
            "\n",
            "Bar charts in dataframe:\n"
          ],
          "name": "stdout"
        },
        {
          "output_type": "execute_result",
          "data": {
            "text/html": [
              "<style  type=\"text/css\" >\n",
              "#T_6d104ed2_2c0c_11eb_97af_0242ac1c0002row0_col1{\n",
              "            width:  10em;\n",
              "             height:  80%;\n",
              "            background:  linear-gradient(90deg,#d65f5f 89.2%, transparent 89.2%);\n",
              "        }#T_6d104ed2_2c0c_11eb_97af_0242ac1c0002row1_col1{\n",
              "            width:  10em;\n",
              "             height:  80%;\n",
              "            background:  linear-gradient(90deg,#d65f5f 16.8%, transparent 16.8%);\n",
              "        }#T_6d104ed2_2c0c_11eb_97af_0242ac1c0002row1_col2,#T_6d104ed2_2c0c_11eb_97af_0242ac1c0002row2_col1{\n",
              "            width:  10em;\n",
              "             height:  80%;\n",
              "        }#T_6d104ed2_2c0c_11eb_97af_0242ac1c0002row2_col2{\n",
              "            width:  10em;\n",
              "             height:  80%;\n",
              "            background:  linear-gradient(90deg,#d65f5f 62.7%, transparent 62.7%);\n",
              "        }#T_6d104ed2_2c0c_11eb_97af_0242ac1c0002row3_col1{\n",
              "            width:  10em;\n",
              "             height:  80%;\n",
              "            background:  linear-gradient(90deg,#d65f5f 78.1%, transparent 78.1%);\n",
              "        }#T_6d104ed2_2c0c_11eb_97af_0242ac1c0002row3_col2{\n",
              "            width:  10em;\n",
              "             height:  80%;\n",
              "            background:  linear-gradient(90deg,#d65f5f 58.3%, transparent 58.3%);\n",
              "        }#T_6d104ed2_2c0c_11eb_97af_0242ac1c0002row4_col2{\n",
              "            width:  10em;\n",
              "             height:  80%;\n",
              "            background:  linear-gradient(90deg,#d65f5f 94.3%, transparent 94.3%);\n",
              "        }#T_6d104ed2_2c0c_11eb_97af_0242ac1c0002row5_col1{\n",
              "            width:  10em;\n",
              "             height:  80%;\n",
              "            background:  linear-gradient(90deg,#d65f5f 8.7%, transparent 8.7%);\n",
              "        }#T_6d104ed2_2c0c_11eb_97af_0242ac1c0002row5_col2{\n",
              "            width:  10em;\n",
              "             height:  80%;\n",
              "            background:  linear-gradient(90deg,#d65f5f 75.6%, transparent 75.6%);\n",
              "        }#T_6d104ed2_2c0c_11eb_97af_0242ac1c0002row6_col1{\n",
              "            width:  10em;\n",
              "             height:  80%;\n",
              "            background:  linear-gradient(90deg,#d65f5f 52.8%, transparent 52.8%);\n",
              "        }#T_6d104ed2_2c0c_11eb_97af_0242ac1c0002row6_col2,#T_6d104ed2_2c0c_11eb_97af_0242ac1c0002row8_col1{\n",
              "            width:  10em;\n",
              "             height:  80%;\n",
              "            background:  linear-gradient(90deg,#d65f5f 100.0%, transparent 100.0%);\n",
              "        }#T_6d104ed2_2c0c_11eb_97af_0242ac1c0002row7_col1{\n",
              "            width:  10em;\n",
              "             height:  80%;\n",
              "            background:  linear-gradient(90deg,#d65f5f 59.8%, transparent 59.8%);\n",
              "        }#T_6d104ed2_2c0c_11eb_97af_0242ac1c0002row7_col2{\n",
              "            width:  10em;\n",
              "             height:  80%;\n",
              "            background:  linear-gradient(90deg,#d65f5f 93.6%, transparent 93.6%);\n",
              "        }#T_6d104ed2_2c0c_11eb_97af_0242ac1c0002row8_col2{\n",
              "            width:  10em;\n",
              "             height:  80%;\n",
              "            background:  linear-gradient(90deg,#d65f5f 4.3%, transparent 4.3%);\n",
              "        }#T_6d104ed2_2c0c_11eb_97af_0242ac1c0002row9_col1{\n",
              "            width:  10em;\n",
              "             height:  80%;\n",
              "            background:  linear-gradient(90deg,#d65f5f 45.2%, transparent 45.2%);\n",
              "        }#T_6d104ed2_2c0c_11eb_97af_0242ac1c0002row9_col2{\n",
              "            width:  10em;\n",
              "             height:  80%;\n",
              "            background:  linear-gradient(90deg,#d65f5f 78.2%, transparent 78.2%);\n",
              "        }</style><table id=\"T_6d104ed2_2c0c_11eb_97af_0242ac1c0002\" ><thead>    <tr>        <th class=\"blank level0\" ></th>        <th class=\"col_heading level0 col0\" >A</th>        <th class=\"col_heading level0 col1\" >B</th>        <th class=\"col_heading level0 col2\" >C</th>        <th class=\"col_heading level0 col3\" >D</th>        <th class=\"col_heading level0 col4\" >E</th>    </tr></thead><tbody>\n",
              "                <tr>\n",
              "                        <th id=\"T_6d104ed2_2c0c_11eb_97af_0242ac1c0002level0_row0\" class=\"row_heading level0 row0\" >0</th>\n",
              "                        <td id=\"T_6d104ed2_2c0c_11eb_97af_0242ac1c0002row0_col0\" class=\"data row0 col0\" >1.000000</td>\n",
              "                        <td id=\"T_6d104ed2_2c0c_11eb_97af_0242ac1c0002row0_col1\" class=\"data row0 col1\" >1.329212</td>\n",
              "                        <td id=\"T_6d104ed2_2c0c_11eb_97af_0242ac1c0002row0_col2\" class=\"data row0 col2\" >nan</td>\n",
              "                        <td id=\"T_6d104ed2_2c0c_11eb_97af_0242ac1c0002row0_col3\" class=\"data row0 col3\" >-0.316280</td>\n",
              "                        <td id=\"T_6d104ed2_2c0c_11eb_97af_0242ac1c0002row0_col4\" class=\"data row0 col4\" >-0.990810</td>\n",
              "            </tr>\n",
              "            <tr>\n",
              "                        <th id=\"T_6d104ed2_2c0c_11eb_97af_0242ac1c0002level0_row1\" class=\"row_heading level0 row1\" >1</th>\n",
              "                        <td id=\"T_6d104ed2_2c0c_11eb_97af_0242ac1c0002row1_col0\" class=\"data row1 col0\" >2.000000</td>\n",
              "                        <td id=\"T_6d104ed2_2c0c_11eb_97af_0242ac1c0002row1_col1\" class=\"data row1 col1\" >-1.070816</td>\n",
              "                        <td id=\"T_6d104ed2_2c0c_11eb_97af_0242ac1c0002row1_col2\" class=\"data row1 col2\" >-1.438713</td>\n",
              "                        <td id=\"T_6d104ed2_2c0c_11eb_97af_0242ac1c0002row1_col3\" class=\"data row1 col3\" >0.564417</td>\n",
              "                        <td id=\"T_6d104ed2_2c0c_11eb_97af_0242ac1c0002row1_col4\" class=\"data row1 col4\" >0.295722</td>\n",
              "            </tr>\n",
              "            <tr>\n",
              "                        <th id=\"T_6d104ed2_2c0c_11eb_97af_0242ac1c0002level0_row2\" class=\"row_heading level0 row2\" >2</th>\n",
              "                        <td id=\"T_6d104ed2_2c0c_11eb_97af_0242ac1c0002row2_col0\" class=\"data row2 col0\" >3.000000</td>\n",
              "                        <td id=\"T_6d104ed2_2c0c_11eb_97af_0242ac1c0002row2_col1\" class=\"data row2 col1\" >-1.626404</td>\n",
              "                        <td id=\"T_6d104ed2_2c0c_11eb_97af_0242ac1c0002row2_col2\" class=\"data row2 col2\" >0.219565</td>\n",
              "                        <td id=\"T_6d104ed2_2c0c_11eb_97af_0242ac1c0002row2_col3\" class=\"data row2 col3\" >0.678805</td>\n",
              "                        <td id=\"T_6d104ed2_2c0c_11eb_97af_0242ac1c0002row2_col4\" class=\"data row2 col4\" >1.889273</td>\n",
              "            </tr>\n",
              "            <tr>\n",
              "                        <th id=\"T_6d104ed2_2c0c_11eb_97af_0242ac1c0002level0_row3\" class=\"row_heading level0 row3\" >3</th>\n",
              "                        <td id=\"T_6d104ed2_2c0c_11eb_97af_0242ac1c0002row3_col0\" class=\"data row3 col0\" >4.000000</td>\n",
              "                        <td id=\"T_6d104ed2_2c0c_11eb_97af_0242ac1c0002row3_col1\" class=\"data row3 col1\" >0.961538</td>\n",
              "                        <td id=\"T_6d104ed2_2c0c_11eb_97af_0242ac1c0002row3_col2\" class=\"data row3 col2\" >0.104011</td>\n",
              "                        <td id=\"T_6d104ed2_2c0c_11eb_97af_0242ac1c0002row3_col3\" class=\"data row3 col3\" >nan</td>\n",
              "                        <td id=\"T_6d104ed2_2c0c_11eb_97af_0242ac1c0002row3_col4\" class=\"data row3 col4\" >0.850229</td>\n",
              "            </tr>\n",
              "            <tr>\n",
              "                        <th id=\"T_6d104ed2_2c0c_11eb_97af_0242ac1c0002level0_row4\" class=\"row_heading level0 row4\" >4</th>\n",
              "                        <td id=\"T_6d104ed2_2c0c_11eb_97af_0242ac1c0002row4_col0\" class=\"data row4 col0\" >5.000000</td>\n",
              "                        <td id=\"T_6d104ed2_2c0c_11eb_97af_0242ac1c0002row4_col1\" class=\"data row4 col1\" >nan</td>\n",
              "                        <td id=\"T_6d104ed2_2c0c_11eb_97af_0242ac1c0002row4_col2\" class=\"data row4 col2\" >1.057737</td>\n",
              "                        <td id=\"T_6d104ed2_2c0c_11eb_97af_0242ac1c0002row4_col3\" class=\"data row4 col3\" >0.165562</td>\n",
              "                        <td id=\"T_6d104ed2_2c0c_11eb_97af_0242ac1c0002row4_col4\" class=\"data row4 col4\" >0.515018</td>\n",
              "            </tr>\n",
              "            <tr>\n",
              "                        <th id=\"T_6d104ed2_2c0c_11eb_97af_0242ac1c0002level0_row5\" class=\"row_heading level0 row5\" >5</th>\n",
              "                        <td id=\"T_6d104ed2_2c0c_11eb_97af_0242ac1c0002row5_col0\" class=\"data row5 col0\" >6.000000</td>\n",
              "                        <td id=\"T_6d104ed2_2c0c_11eb_97af_0242ac1c0002row5_col1\" class=\"data row5 col1\" >-1.336936</td>\n",
              "                        <td id=\"T_6d104ed2_2c0c_11eb_97af_0242ac1c0002row5_col2\" class=\"data row5 col2\" >0.562861</td>\n",
              "                        <td id=\"T_6d104ed2_2c0c_11eb_97af_0242ac1c0002row5_col3\" class=\"data row5 col3\" >1.392855</td>\n",
              "                        <td id=\"T_6d104ed2_2c0c_11eb_97af_0242ac1c0002row5_col4\" class=\"data row5 col4\" >-0.063328</td>\n",
              "            </tr>\n",
              "            <tr>\n",
              "                        <th id=\"T_6d104ed2_2c0c_11eb_97af_0242ac1c0002level0_row6\" class=\"row_heading level0 row6\" >6</th>\n",
              "                        <td id=\"T_6d104ed2_2c0c_11eb_97af_0242ac1c0002row6_col0\" class=\"data row6 col0\" >7.000000</td>\n",
              "                        <td id=\"T_6d104ed2_2c0c_11eb_97af_0242ac1c0002row6_col1\" class=\"data row6 col1\" >0.121668</td>\n",
              "                        <td id=\"T_6d104ed2_2c0c_11eb_97af_0242ac1c0002row6_col2\" class=\"data row6 col2\" >1.207603</td>\n",
              "                        <td id=\"T_6d104ed2_2c0c_11eb_97af_0242ac1c0002row6_col3\" class=\"data row6 col3\" >-0.002040</td>\n",
              "                        <td id=\"T_6d104ed2_2c0c_11eb_97af_0242ac1c0002row6_col4\" class=\"data row6 col4\" >1.627796</td>\n",
              "            </tr>\n",
              "            <tr>\n",
              "                        <th id=\"T_6d104ed2_2c0c_11eb_97af_0242ac1c0002level0_row7\" class=\"row_heading level0 row7\" >7</th>\n",
              "                        <td id=\"T_6d104ed2_2c0c_11eb_97af_0242ac1c0002row7_col0\" class=\"data row7 col0\" >8.000000</td>\n",
              "                        <td id=\"T_6d104ed2_2c0c_11eb_97af_0242ac1c0002row7_col1\" class=\"data row7 col1\" >0.354493</td>\n",
              "                        <td id=\"T_6d104ed2_2c0c_11eb_97af_0242ac1c0002row7_col2\" class=\"data row7 col2\" >1.037528</td>\n",
              "                        <td id=\"T_6d104ed2_2c0c_11eb_97af_0242ac1c0002row7_col3\" class=\"data row7 col3\" >-0.385684</td>\n",
              "                        <td id=\"T_6d104ed2_2c0c_11eb_97af_0242ac1c0002row7_col4\" class=\"data row7 col4\" >0.519818</td>\n",
              "            </tr>\n",
              "            <tr>\n",
              "                        <th id=\"T_6d104ed2_2c0c_11eb_97af_0242ac1c0002level0_row8\" class=\"row_heading level0 row8\" >8</th>\n",
              "                        <td id=\"T_6d104ed2_2c0c_11eb_97af_0242ac1c0002row8_col0\" class=\"data row8 col0\" >9.000000</td>\n",
              "                        <td id=\"T_6d104ed2_2c0c_11eb_97af_0242ac1c0002row8_col1\" class=\"data row8 col1\" >1.686583</td>\n",
              "                        <td id=\"T_6d104ed2_2c0c_11eb_97af_0242ac1c0002row8_col2\" class=\"data row8 col2\" >-1.325963</td>\n",
              "                        <td id=\"T_6d104ed2_2c0c_11eb_97af_0242ac1c0002row8_col3\" class=\"data row8 col3\" >1.428984</td>\n",
              "                        <td id=\"T_6d104ed2_2c0c_11eb_97af_0242ac1c0002row8_col4\" class=\"data row8 col4\" >-2.089354</td>\n",
              "            </tr>\n",
              "            <tr>\n",
              "                        <th id=\"T_6d104ed2_2c0c_11eb_97af_0242ac1c0002level0_row9\" class=\"row_heading level0 row9\" >9</th>\n",
              "                        <td id=\"T_6d104ed2_2c0c_11eb_97af_0242ac1c0002row9_col0\" class=\"data row9 col0\" >10.000000</td>\n",
              "                        <td id=\"T_6d104ed2_2c0c_11eb_97af_0242ac1c0002row9_col1\" class=\"data row9 col1\" >-0.129820</td>\n",
              "                        <td id=\"T_6d104ed2_2c0c_11eb_97af_0242ac1c0002row9_col2\" class=\"data row9 col2\" >0.631523</td>\n",
              "                        <td id=\"T_6d104ed2_2c0c_11eb_97af_0242ac1c0002row9_col3\" class=\"data row9 col3\" >-0.586538</td>\n",
              "                        <td id=\"T_6d104ed2_2c0c_11eb_97af_0242ac1c0002row9_col4\" class=\"data row9 col4\" >nan</td>\n",
              "            </tr>\n",
              "    </tbody></table>"
            ],
            "text/plain": [
              "<pandas.io.formats.style.Styler at 0x7f0c05463128>"
            ]
          },
          "metadata": {
            "tags": []
          },
          "execution_count": 49
        }
      ]
    },
    {
      "cell_type": "code",
      "metadata": {
        "id": "7G6CUZdRYBRj"
      },
      "source": [
        ""
      ],
      "execution_count": null,
      "outputs": []
    }
  ]
}