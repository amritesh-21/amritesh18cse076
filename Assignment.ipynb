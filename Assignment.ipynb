{
  "nbformat": 4,
  "nbformat_minor": 0,
  "metadata": {
    "colab": {
      "name": "Assignment.ipynb",
      "provenance": [],
      "collapsed_sections": [],
      "authorship_tag": "ABX9TyPqFJZSTCmE/GHJE/ooGfqD",
      "include_colab_link": true
    },
    "kernelspec": {
      "name": "python3",
      "display_name": "Python 3"
    }
  },
  "cells": [
    {
      "cell_type": "markdown",
      "metadata": {
        "id": "view-in-github",
        "colab_type": "text"
      },
      "source": [
        "<a href=\"https://colab.research.google.com/github/amritesh-21/amritesh18cse076/blob/main/Assignment.ipynb\" target=\"_parent\"><img src=\"https://colab.research.google.com/assets/colab-badge.svg\" alt=\"Open In Colab\"/></a>"
      ]
    },
    {
      "cell_type": "markdown",
      "metadata": {
        "id": "kMFwzSlGz-Ie"
      },
      "source": [
        "#Assignment-1\n",
        "\n",
        "---\n",
        "\n",
        "\n",
        "\n",
        "\n",
        "\n"
      ]
    },
    {
      "cell_type": "markdown",
      "metadata": {
        "id": "n_MwPohEe_-t"
      },
      "source": [
        "#1"
      ]
    },
    {
      "cell_type": "code",
      "metadata": {
        "id": "pfrlVEoN0K2q",
        "outputId": "3d55ad2a-32c3-408f-abbb-1bc508ffeada",
        "colab": {
          "base_uri": "https://localhost:8080/"
        }
      },
      "source": [
        "num_list = [21, 11, 19, 3,11,5]\n",
        "# FInd sum of the numbers\n",
        "num_sum = sum(num_list)\n",
        "#divide the sum with length of the list\n",
        "mean = num_sum / len(num_list)\n",
        "print(num_list)\n",
        "print(\"Mean of the above list of numbers is: \",mean)\n"
      ],
      "execution_count": null,
      "outputs": [
        {
          "output_type": "stream",
          "text": [
            "[21, 11, 19, 3, 11, 5]\n",
            "Mean of the above list of numbers is:  11.666666666666666\n"
          ],
          "name": "stdout"
        }
      ]
    },
    {
      "cell_type": "code",
      "metadata": {
        "id": "sOf3qRLF1Pyv",
        "outputId": "b3ed8371-820d-4112-9ced-28ce6a7992b6",
        "colab": {
          "base_uri": "https://localhost:8080/"
        }
      },
      "source": [
        "num_list = [21, 11, 19, 3,11,5]\n",
        "# FInd sum of the numbers\n",
        "num_sum = sum(num_list)\n",
        "#divide the sum with length of the list\n",
        "mean = num_sum / len(num_list)\n",
        "print(num_list)\n",
        "print(\"Mean of the above list of numbers is: \" + str(round(mean,2)))"
      ],
      "execution_count": null,
      "outputs": [
        {
          "output_type": "stream",
          "text": [
            "[21, 11, 19, 3, 11, 5]\n",
            "Mean of the above list of numbers is: 11.67\n"
          ],
          "name": "stdout"
        }
      ]
    },
    {
      "cell_type": "code",
      "metadata": {
        "id": "aGj6lNcW1vJP",
        "outputId": "41a16a5e-a17f-4e99-be3e-8dfb0e1e2022",
        "colab": {
          "base_uri": "https://localhost:8080/"
        }
      },
      "source": [
        "import collections\n",
        "# list of elements to calculate mode\n",
        "num_list = [21, 13, 19, 13,19,13]\n",
        "# Print the list\n",
        "print(num_list)\n",
        "# calculate the frequency of each item\n",
        "data = collections.Counter(num_list)\n",
        "data_list = dict(data)\n",
        "# Print the items with frequency\n",
        "print(data_list)\n",
        "# Find the highest frequency\n",
        "max_value = max(list(data.values()))\n",
        "mode_val = [num for num, freq in data_list.items() if freq == max_value]\n",
        "if len(mode_val) == len(num_list):\n",
        "   print(\"No mode in the list\")\n",
        "else:\n",
        "   print(\"The Mode of the list is : \" + ', '.join(map(str, mode_val)))"
      ],
      "execution_count": null,
      "outputs": [
        {
          "output_type": "stream",
          "text": [
            "[21, 13, 19, 13, 19, 13]\n",
            "{21: 1, 13: 3, 19: 2}\n",
            "The Mode of the list is : 13\n"
          ],
          "name": "stdout"
        }
      ]
    },
    {
      "cell_type": "markdown",
      "metadata": {
        "id": "8BSAP9UkfDPD"
      },
      "source": [
        "#2"
      ]
    },
    {
      "cell_type": "code",
      "metadata": {
        "id": "d9RreBS-13ek",
        "outputId": "fd0720b9-c328-459e-8595-6805c4c07aea",
        "colab": {
          "base_uri": "https://localhost:8080/"
        }
      },
      "source": [
        "def variance(data):\n",
        "     # Number of observations\n",
        "     n = len(data)\n",
        "     # Mean of the data\n",
        "     mean = sum(data) / n\n",
        "     # Square deviations\n",
        "     deviations = [(x - mean) ** 2 for x in data]\n",
        "     # Variance\n",
        "     variance = sum(deviations) / n\n",
        "     return variance\n",
        "variance([4, 8, 6, 5, 3, 2, 8, 9, 2, 5])"
      ],
      "execution_count": 1,
      "outputs": [
        {
          "output_type": "execute_result",
          "data": {
            "text/plain": [
              "5.76"
            ]
          },
          "metadata": {
            "tags": []
          },
          "execution_count": 1
        }
      ]
    },
    {
      "cell_type": "code",
      "metadata": {
        "id": "9xO5aSJkfm7B",
        "outputId": "046b2db7-d91f-40de-92b6-cf59ff7851b0",
        "colab": {
          "base_uri": "https://localhost:8080/"
        }
      },
      "source": [
        "import math\n",
        "def variance(data):\n",
        "     n = len(data)\n",
        "     mean = sum(data) / n\n",
        "     deviations = [(x - mean) ** 2 for x in data]\n",
        "     variance = sum(deviations) / n\n",
        "     return variance\n",
        "def stdev(data):\n",
        "     var = variance(data)\n",
        "     std_dev = math.sqrt(var)\n",
        "     return std_dev\n",
        "\n",
        "stdev([4, 8, 6, 5, 3, 2, 8, 9, 2, 5])"
      ],
      "execution_count": 3,
      "outputs": [
        {
          "output_type": "execute_result",
          "data": {
            "text/plain": [
              "2.4"
            ]
          },
          "metadata": {
            "tags": []
          },
          "execution_count": 3
        }
      ]
    },
    {
      "cell_type": "markdown",
      "metadata": {
        "id": "ieXkEPuYnOYy"
      },
      "source": [
        "#3"
      ]
    },
    {
      "cell_type": "code",
      "metadata": {
        "id": "RJL3Tw_DgoDu",
        "outputId": "20a625b3-2639-4d39-9d99-3cd187a12e6d",
        "colab": {
          "base_uri": "https://localhost:8080/"
        }
      },
      "source": [
        "#List \n",
        "L = [1, \"a\" , \"string\" , 1+2] \n",
        "print(L) \n",
        "L.append(6) \n",
        "print (L) \n",
        "L.pop() \n",
        "print(L) \n",
        "print(L[1])\n",
        "\n",
        "#Tuple\n",
        "tup = (1, \"a\", \"string\", 1+2) \n",
        "print(tup) \n",
        "print(tup[1]) \n",
        "\n",
        "#String\n",
        "s = \"Hello World\"\n",
        "for i in s : \n",
        "    print (i)\n",
        "\n",
        "#Dictionary\n",
        "dict1 = {'Ten': 10, 'Twenty': 20, 'Thirty': 30}\n",
        "print(dict1)"
      ],
      "execution_count": 10,
      "outputs": [
        {
          "output_type": "stream",
          "text": [
            "[1, 'a', 'string', 3]\n",
            "[1, 'a', 'string', 3, 6]\n",
            "[1, 'a', 'string', 3]\n",
            "a\n",
            "(1, 'a', 'string', 3)\n",
            "a\n",
            "H\n",
            "e\n",
            "l\n",
            "l\n",
            "o\n",
            " \n",
            "W\n",
            "o\n",
            "r\n",
            "l\n",
            "d\n",
            "{'Ten': 10, 'Twenty': 20, 'Thirty': 30}\n"
          ],
          "name": "stdout"
        }
      ]
    },
    {
      "cell_type": "code",
      "metadata": {
        "id": "oB1pRNZcjeDV"
      },
      "source": [
        ""
      ],
      "execution_count": null,
      "outputs": []
    }
  ]
}